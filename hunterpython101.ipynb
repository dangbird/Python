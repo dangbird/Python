{
  "nbformat": 4,
  "nbformat_minor": 0,
  "metadata": {
    "colab": {
      "provenance": [],
      "authorship_tag": "ABX9TyNYC2eHnYZBQc89T7Y5e83P",
      "include_colab_link": true
    },
    "kernelspec": {
      "name": "python3",
      "display_name": "Python 3"
    },
    "language_info": {
      "name": "python"
    }
  },
  "cells": [
    {
      "cell_type": "markdown",
      "metadata": {
        "id": "view-in-github",
        "colab_type": "text"
      },
      "source": [
        "<a href=\"https://colab.research.google.com/github/dangbird/Python/blob/main/hunterpython101.ipynb\" target=\"_parent\"><img src=\"https://colab.research.google.com/assets/colab-badge.svg\" alt=\"Open In Colab\"/></a>"
      ]
    },
    {
      "cell_type": "code",
      "execution_count": 10,
      "metadata": {
        "colab": {
          "base_uri": "https://localhost:8080/",
          "height": 110
        },
        "id": "48CC-c2TtcIb",
        "outputId": "e41141ed-4158-4d1e-fc91-d5bd51dfd218"
      },
      "outputs": [
        {
          "output_type": "stream",
          "name": "stdout",
          "text": [
            "Hello World\n",
            "Hot Chick\n",
            "Hunter Whats Up dude?\n",
            "Poofy is Chewy!\n"
          ]
        },
        {
          "output_type": "execute_result",
          "data": {
            "text/plain": [
              "'Hunter is Nasty Green Puke '"
            ],
            "application/vnd.google.colaboratory.intrinsic+json": {
              "type": "string"
            }
          },
          "metadata": {},
          "execution_count": 10
        }
      ],
      "source": [
        "print(\"Hello World\")\n",
        "def hotchick():\n",
        "  print(\"Hot Chick\")\n",
        "  return;\n",
        "\n",
        "def yo(fname):\n",
        "  print(fname + \" Whats Up dude?\")\n",
        "  return;\n",
        "\n",
        "def poof(dogname):\n",
        "  dog = \"Poofy\"\n",
        "  print(dog + \" is \" + dogname + \"!\")\n",
        "  return;\n",
        "\n",
        "def stuff(crap):\n",
        "  stinky = \"Nasty \"\n",
        "  stench = \"Puke \"\n",
        "  fart = \"Green \"\n",
        "  combined = crap + stinky + fart + stench\n",
        "  return combined;\n",
        "\n",
        "hotchick()\n",
        "yo(\"Hunter\")\n",
        "poof(\"Chewy\")\n",
        "stuff(\"Hunter is \")"
      ]
    }
  ]
}